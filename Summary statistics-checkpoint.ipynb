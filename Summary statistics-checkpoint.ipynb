{
 "cells": [
  {
   "cell_type": "code",
   "execution_count": 1,
   "metadata": {},
   "outputs": [],
   "source": [
    "import pandas as pd\n",
    "import numpy as np\n",
    "import matplotlib.pyplot as plt\n",
    "import statistics"
   ]
  },
  {
   "cell_type": "code",
   "execution_count": 2,
   "metadata": {},
   "outputs": [],
   "source": [
    "# Start with an empty DataFrame\n",
    "df = pd.DataFrame()"
   ]
  },
  {
   "cell_type": "code",
   "execution_count": 3,
   "metadata": {},
   "outputs": [
    {
     "data": {
      "text/plain": [
       "\"Greg was 14, Marcia was 12, Peter was 11, Jan was 10, Bobby was 8, and Cindy was 6 when they started playing the Brady kids on The Brady Bunch. \\nCousin Oliver was 8 years old when he joined the show. \\nWhat are the mean, median, and mode of the kids' ages \\nwhen they first appeared on the show? What are the variance, standard deviation, and standard error?\""
      ]
     },
     "execution_count": 3,
     "metadata": {},
     "output_type": "execute_result"
    }
   ],
   "source": [
    "'''Greg was 14, Marcia was 12, Peter was 11, Jan was 10, Bobby was 8, and Cindy was 6 when they started playing the Brady kids on The Brady Bunch. \n",
    "Cousin Oliver was 8 years old when he joined the show. \n",
    "What are the mean, median, and mode of the kids' ages \n",
    "when they first appeared on the show? What are the variance, standard deviation, and standard error?'''\n"
   ]
  },
  {
   "cell_type": "code",
   "execution_count": 4,
   "metadata": {},
   "outputs": [
    {
     "data": {
      "text/plain": [
       "9.857142857142858"
      ]
     },
     "execution_count": 4,
     "metadata": {},
     "output_type": "execute_result"
    }
   ],
   "source": [
    "df['age'] = [14 , 12, 11, 10, 8, 6, 8]\n",
    "\n",
    "average_age = np.mean(df['age'])\n",
    "\n",
    "average_age"
   ]
  },
  {
   "cell_type": "code",
   "execution_count": 5,
   "metadata": {},
   "outputs": [
    {
     "data": {
      "text/plain": [
       "10.0"
      ]
     },
     "execution_count": 5,
     "metadata": {},
     "output_type": "execute_result"
    }
   ],
   "source": [
    "median_age = np.median(df['age'])\n",
    "\n",
    "median_age"
   ]
  },
  {
   "cell_type": "code",
   "execution_count": 6,
   "metadata": {
    "scrolled": true
   },
   "outputs": [
    {
     "data": {
      "text/plain": [
       "8"
      ]
     },
     "execution_count": 6,
     "metadata": {},
     "output_type": "execute_result"
    }
   ],
   "source": [
    "# Generate a list of unique elements along with how often they occur.\n",
    "(values, counts) = np.unique(df['age'], return_counts=True)\n",
    "values , counts\n",
    "ind = np.argmax(counts)\n",
    "values[ind]"
   ]
  },
  {
   "cell_type": "code",
   "execution_count": 8,
   "metadata": {},
   "outputs": [
    {
     "data": {
      "text/plain": [
       "6.408163265306122"
      ]
     },
     "execution_count": 8,
     "metadata": {},
     "output_type": "execute_result"
    }
   ],
   "source": [
    "#Variance\n",
    "df['age'].var()\n",
    "np.var(df.age)"
   ]
  },
  {
   "cell_type": "code",
   "execution_count": 9,
   "metadata": {},
   "outputs": [
    {
     "data": {
      "text/plain": [
       "2.734262327610589"
      ]
     },
     "execution_count": 9,
     "metadata": {},
     "output_type": "execute_result"
    }
   ],
   "source": [
    "# Standard deviation\n",
    "np.std(df['age'], ddof=1) "
   ]
  },
  {
   "cell_type": "code",
   "execution_count": 11,
   "metadata": {},
   "outputs": [
    {
     "data": {
      "text/plain": [
       "1.0334540197243192"
      ]
     },
     "execution_count": 11,
     "metadata": {},
     "output_type": "execute_result"
    }
   ],
   "source": [
    "#standard error\n",
    "np.std(df['age'] ,ddof=1) / np.sqrt(len(df['age']))\n"
   ]
  },
  {
   "cell_type": "code",
   "execution_count": null,
   "metadata": {},
   "outputs": [],
   "source": [
    "'''In this case I would use mean as the best measure of central tendenvcy because there are not extreme outliers in the data set given.'''\n"
   ]
  },
  {
   "cell_type": "code",
   "execution_count": 12,
   "metadata": {},
   "outputs": [
    {
     "data": {
      "text/plain": [
       "10.0"
      ]
     },
     "execution_count": 12,
     "metadata": {},
     "output_type": "execute_result"
    }
   ],
   "source": [
    "df['new_cindy_age'] = [14 , 12, 11, 10, 8, 7, 8]\n",
    "#Mean \n",
    "average_age = np.mean(df['new_cindy_age'])\n",
    "\n",
    "average_age"
   ]
  },
  {
   "cell_type": "code",
   "execution_count": 13,
   "metadata": {},
   "outputs": [
    {
     "data": {
      "text/plain": [
       "10.0"
      ]
     },
     "execution_count": 13,
     "metadata": {},
     "output_type": "execute_result"
    }
   ],
   "source": [
    "#new median \n",
    "median_age = np.median(df['new_cindy_age'])\n",
    "\n",
    "median_age"
   ]
  },
  {
   "cell_type": "code",
   "execution_count": 14,
   "metadata": {},
   "outputs": [
    {
     "data": {
      "text/plain": [
       "8"
      ]
     },
     "execution_count": 14,
     "metadata": {},
     "output_type": "execute_result"
    }
   ],
   "source": [
    "#Mode\n",
    "(values, counts) = np.unique(df['new_cindy_age'], return_counts=True)\n",
    "values , counts\n",
    "ind = np.argmax(counts)\n",
    "values[ind]"
   ]
  },
  {
   "cell_type": "code",
   "execution_count": 17,
   "metadata": {},
   "outputs": [
    {
     "data": {
      "text/plain": [
       "(6.333333333333333, 2.516611478423583, 0.9511897312113418)"
      ]
     },
     "execution_count": 17,
     "metadata": {},
     "output_type": "execute_result"
    }
   ],
   "source": [
    "#Variance after the Cindy's Birthday\n",
    "#Variance\n",
    "variance = df['new_cindy_age'].var()\n",
    "np.var(df.age)\n",
    "\n",
    "# Standard deviation\n",
    "standard_dev = np.std(df['new_cindy_age'], ddof=1) \n",
    "\n",
    "#standard error\n",
    "error = np.std(df['new_cindy_age'] ,ddof=1) / np.sqrt(len(df['new_cindy_age']))\n",
    "\n",
    "variance, standard_dev, error\n",
    "\n"
   ]
  },
  {
   "cell_type": "code",
   "execution_count": null,
   "metadata": {},
   "outputs": [],
   "source": [
    "# Mean is the only measure that changed \n",
    "# All measures of variance changed \n"
   ]
  },
  {
   "cell_type": "code",
   "execution_count": 16,
   "metadata": {},
   "outputs": [
    {
     "data": {
      "text/plain": [
       "(9.0, 10.0, 1)"
      ]
     },
     "execution_count": 16,
     "metadata": {},
     "output_type": "execute_result"
    }
   ],
   "source": [
    "'''Replacing oliver with 1 year old jessica'''\n",
    "df['Rep_oliver'] = [14 , 12, 11, 10, 8, 7, 1]\n",
    "#Mean \n",
    "average_age = np.mean(df['Rep_oliver'])\n",
    "\n",
    "average_age\n",
    "#Median\n",
    "median_age = np.median(df['Rep_oliver'])\n",
    "\n",
    "median_age\n",
    "#mode\n",
    "(values, counts) = np.unique(df['Rep_oliver'], return_counts=True)\n",
    "values , counts\n",
    "ind = np.argmax(counts)\n",
    "values[ind]\n",
    "average_age, median_age, values[ind]"
   ]
  },
  {
   "cell_type": "code",
   "execution_count": 18,
   "metadata": {},
   "outputs": [
    {
     "data": {
      "text/plain": [
       "(18.0, 4.242640687119285, 1.6035674514745462)"
      ]
     },
     "execution_count": 18,
     "metadata": {},
     "output_type": "execute_result"
    }
   ],
   "source": [
    "'''Variance after replacing oliver'''\n",
    "#Variance\n",
    "variance = df['Rep_oliver'].var()\n",
    "np.var(df.age)\n",
    "\n",
    "# Standard deviation\n",
    "standard_dev = np.std(df['Rep_oliver'], ddof=1) \n",
    "\n",
    "#standard error\n",
    "error = np.std(df['Rep_oliver'] ,ddof=1) / np.sqrt(len(df['Rep_oliver']))\n",
    "\n",
    "variance, standard_dev, error"
   ]
  },
  {
   "cell_type": "code",
   "execution_count": null,
   "metadata": {},
   "outputs": [],
   "source": [
    "'''This does not change my prefrence from mean but variance measure changes are extreme'''"
   ]
  },
  {
   "cell_type": "code",
   "execution_count": null,
   "metadata": {},
   "outputs": [],
   "source": [
    "'''TV Guide 20% fans Entertainment Weekly 23% fans Pop Culture Today 17% fans SciPhi Phanatic 5% fans'''"
   ]
  },
  {
   "cell_type": "code",
   "execution_count": 22,
   "metadata": {},
   "outputs": [
    {
     "data": {
      "text/plain": [
       "(0.16250000000000003, 0.185, 0.05)"
      ]
     },
     "execution_count": 22,
     "metadata": {},
     "output_type": "execute_result"
    }
   ],
   "source": [
    "df1 = pd.DataFrame()\n",
    "\n",
    "df1['percent_adult_americans'] = [0.20 , 0.23, 0.17, 0.05]\n",
    "average_americans = np.mean(df1['percent_adult_americans'])\n",
    "\n",
    "#Median\n",
    "median_americans = np.median(df1['percent_adult_americans'])\n",
    "\n",
    "#mode\n",
    "(values, counts) = np.unique(df1['percent_adult_americans'], return_counts=True)\n",
    "values , counts\n",
    "ind1 = np.argmax(counts)\n",
    "values[ind1]\n",
    "average_americans, median_americans, values[ind1]"
   ]
  },
  {
   "cell_type": "code",
   "execution_count": 27,
   "metadata": {},
   "outputs": [
    {
     "data": {
      "text/plain": [
       "16.250000000000004"
      ]
     },
     "execution_count": 27,
     "metadata": {},
     "output_type": "execute_result"
    }
   ],
   "source": [
    "percent_americans = average_americans*100\n",
    "percent_americans"
   ]
  },
  {
   "cell_type": "raw",
   "metadata": {},
   "source": []
  }
 ],
 "metadata": {
  "kernelspec": {
   "display_name": "Python 3",
   "language": "python",
   "name": "python3"
  },
  "language_info": {
   "codemirror_mode": {
    "name": "ipython",
    "version": 3
   },
   "file_extension": ".py",
   "mimetype": "text/x-python",
   "name": "python",
   "nbconvert_exporter": "python",
   "pygments_lexer": "ipython3",
   "version": "3.7.3"
  }
 },
 "nbformat": 4,
 "nbformat_minor": 2
}
